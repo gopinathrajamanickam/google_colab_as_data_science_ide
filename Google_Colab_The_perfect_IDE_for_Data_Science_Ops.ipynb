{
  "nbformat": 4,
  "nbformat_minor": 0,
  "metadata": {
    "colab": {
      "name": "Google Colab - The perfect IDE for Data Science Ops.ipynb",
      "provenance": [],
      "collapsed_sections": [],
      "authorship_tag": "ABX9TyPWepzQdGlV6utPgZBc4ioQ",
      "include_colab_link": true
    },
    "kernelspec": {
      "name": "python3",
      "display_name": "Python 3"
    }
  },
  "cells": [
    {
      "cell_type": "markdown",
      "metadata": {
        "id": "view-in-github",
        "colab_type": "text"
      },
      "source": [
        "<a href=\"https://colab.research.google.com/github/gopinathrajamanickam/google_colab_as_data_science_ide/blob/main/Google_Colab_The_perfect_IDE_for_Data_Science_Ops.ipynb\" target=\"_parent\"><img src=\"https://colab.research.google.com/assets/colab-badge.svg\" alt=\"Open In Colab\"/></a>"
      ]
    },
    {
      "cell_type": "markdown",
      "metadata": {
        "id": "gP_Ar5exxdyP"
      },
      "source": [
        "# Google Colab - The perfect IDE for Data Science Ops\n",
        "## Working on Data Science and Machine Learning Projects are often a daunting task for the budding Data Scientists.\n",
        "\n",
        "## Most of the Data Science courses use Jupyter notebooks . Thanks for in line execution to selectively execute and display results as data, tables or eye  catching vizualizations.\n",
        "\n",
        "## Markdowns make it more attractive as it combines the visual  appeal of HTML pages with the code highlighing and seamless charts.\n",
        "\n",
        "### And the best part is any code changes are instantly saved and we can switch from different machines , instant collaboration with other developers.\n",
        "\n",
        "\n",
        "\n",
        "\n",
        "\n"
      ]
    },
    {
      "cell_type": "markdown",
      "metadata": {
        "id": "D6qRHqxUB3oM"
      },
      "source": [
        "### Things that kept me to go back to the command lines and traditional IDEs \n",
        "\n",
        "*   Accessing the source code and data files without using git hub\n",
        "*   Deploy and test the model as a web app as regular flask deployment will run the model in localhost only\n",
        "\n",
        "\n",
        "\n"
      ]
    },
    {
      "cell_type": "markdown",
      "metadata": {
        "id": "w6X7CN99Es1h"
      },
      "source": [
        "# Came across the way to overpower this\n",
        "\n",
        "\n",
        "\n",
        "1.   Use Google Drive as the storage for the code and data files  \n",
        "2.   Use flask-ngrok for deploying model and generate a public url instead of local host\n",
        "3.   Connect to Github  rrespository and store finished noteook in drive\n",
        "\n",
        "Let us walk though an example\n",
        "\n"
      ]
    },
    {
      "cell_type": "markdown",
      "metadata": {
        "id": "TYvFyrwMIM3N"
      },
      "source": [
        "# Mount the Google Drive to the Colab notebook\n"
      ]
    },
    {
      "cell_type": "code",
      "metadata": {
        "colab": {
          "base_uri": "https://localhost:8080/"
        },
        "id": "yRPR4ENHxvra",
        "outputId": "4f643560-ebf7-4317-db93-30f97523c1f1"
      },
      "source": [
        "from google.colab import drive\n",
        "drive.mount('/content/drive')"
      ],
      "execution_count": 1,
      "outputs": [
        {
          "output_type": "stream",
          "text": [
            "Mounted at /content/drive\n"
          ],
          "name": "stdout"
        }
      ]
    },
    {
      "cell_type": "markdown",
      "metadata": {
        "id": "OmzxAr-iIYik"
      },
      "source": [
        "Above code will request you to login to Google Drive and an authorrization code. Once Authorrized your entire Google drive will be accessible on the File Navigator on the left pane \n",
        "\n",
        "Any File access will be done via magic commands like %cd , %ls \n",
        "\n"
      ]
    },
    {
      "cell_type": "code",
      "metadata": {
        "colab": {
          "base_uri": "https://localhost:8080/"
        },
        "id": "GokCQNRFJ2pl",
        "outputId": "8cfb1dee-c3bb-441f-885e-ede5b9046621"
      },
      "source": [
        "%cd  drive/MyDrive/Data\\ Science/github"
      ],
      "execution_count": 3,
      "outputs": [
        {
          "output_type": "stream",
          "text": [
            "/content/drive/MyDrive/Data Science/github\n"
          ],
          "name": "stdout"
        }
      ]
    },
    {
      "cell_type": "markdown",
      "metadata": {
        "id": "ie6hPPZpWTUa"
      },
      "source": [
        "## Include the kaggle api token"
      ]
    },
    {
      "cell_type": "code",
      "metadata": {
        "id": "RYA3wr-pWekx"
      },
      "source": [
        "import os\n",
        "os.environ['KAGGLE_CONFIG_DIR'] = \"/content/drive/My Drive/Data Science/github\""
      ],
      "execution_count": 4,
      "outputs": []
    },
    {
      "cell_type": "markdown",
      "metadata": {
        "id": "tMRaFTY6Xoop"
      },
      "source": [
        "## Download the kaggle dataset"
      ]
    },
    {
      "cell_type": "code",
      "metadata": {
        "colab": {
          "base_uri": "https://localhost:8080/"
        },
        "id": "7fX2QRA1XtIE",
        "outputId": "aff56ede-b49a-48ed-e80f-de8517169fe5"
      },
      "source": [
        "!kaggle datasets download -d pankeshpatel/hiring"
      ],
      "execution_count": 5,
      "outputs": [
        {
          "output_type": "stream",
          "text": [
            "Downloading hiring.zip to /content/drive/My Drive/Data Science/github\n",
            "\r  0% 0.00/289 [00:00<?, ?B/s]\n",
            "\r100% 289/289 [00:00<00:00, 41.7kB/s]\n"
          ],
          "name": "stdout"
        }
      ]
    },
    {
      "cell_type": "markdown",
      "metadata": {
        "id": "5EVDUsOCYQUP"
      },
      "source": [
        "## Unzip the data "
      ]
    },
    {
      "cell_type": "code",
      "metadata": {
        "colab": {
          "base_uri": "https://localhost:8080/"
        },
        "id": "wEDlB_D0YV4s",
        "outputId": "7f1ced15-b0aa-42a1-babf-db922f02860d"
      },
      "source": [
        "#unzipping the zip files and deleting the zip files\n",
        "!unzip \\*.zip  && rm *.zip"
      ],
      "execution_count": 6,
      "outputs": [
        {
          "output_type": "stream",
          "text": [
            "Archive:  hiring.zip\n",
            "  inflating: hiring.csv              \n"
          ],
          "name": "stdout"
        }
      ]
    },
    {
      "cell_type": "markdown",
      "metadata": {
        "id": "SJgmDUEYXsL8"
      },
      "source": [
        ""
      ]
    },
    {
      "cell_type": "markdown",
      "metadata": {
        "id": "6gUj2-76KJS-"
      },
      "source": [
        "Create the Model"
      ]
    },
    {
      "cell_type": "code",
      "metadata": {
        "colab": {
          "base_uri": "https://localhost:8080/",
          "height": 36
        },
        "id": "KQ2NdBZZZ5z0",
        "outputId": "2a0cc3d8-bd6f-4a85-9ac0-82f32a2b5bb1"
      },
      "source": [
        "%pwd"
      ],
      "execution_count": 7,
      "outputs": [
        {
          "output_type": "execute_result",
          "data": {
            "application/vnd.google.colaboratory.intrinsic+json": {
              "type": "string"
            },
            "text/plain": [
              "'/content/drive/MyDrive/Data Science/github'"
            ]
          },
          "metadata": {
            "tags": []
          },
          "execution_count": 7
        }
      ]
    },
    {
      "cell_type": "code",
      "metadata": {
        "id": "Xow7OhMBZ1m2"
      },
      "source": [
        "# Importing the libraries\n",
        "import numpy as np\n",
        "import matplotlib.pyplot as plt\n",
        "import pandas as pd\n",
        "import pickle\n",
        "\n",
        "dataset = pd.read_csv('hiring.csv')"
      ],
      "execution_count": 8,
      "outputs": []
    },
    {
      "cell_type": "code",
      "metadata": {
        "colab": {
          "base_uri": "https://localhost:8080/",
          "height": 300
        },
        "id": "Abkvm50OaDce",
        "outputId": "e495d4a6-a722-469d-b320-779d9a9d75cc"
      },
      "source": [
        "dataset.describe()"
      ],
      "execution_count": 9,
      "outputs": [
        {
          "output_type": "execute_result",
          "data": {
            "text/html": [
              "<div>\n",
              "<style scoped>\n",
              "    .dataframe tbody tr th:only-of-type {\n",
              "        vertical-align: middle;\n",
              "    }\n",
              "\n",
              "    .dataframe tbody tr th {\n",
              "        vertical-align: top;\n",
              "    }\n",
              "\n",
              "    .dataframe thead th {\n",
              "        text-align: right;\n",
              "    }\n",
              "</style>\n",
              "<table border=\"1\" class=\"dataframe\">\n",
              "  <thead>\n",
              "    <tr style=\"text-align: right;\">\n",
              "      <th></th>\n",
              "      <th>test_score(out of 10)</th>\n",
              "      <th>interview_score(out of 10)</th>\n",
              "      <th>salary($)</th>\n",
              "    </tr>\n",
              "  </thead>\n",
              "  <tbody>\n",
              "    <tr>\n",
              "      <th>count</th>\n",
              "      <td>7.000000</td>\n",
              "      <td>8.000000</td>\n",
              "      <td>8.00000</td>\n",
              "    </tr>\n",
              "    <tr>\n",
              "      <th>mean</th>\n",
              "      <td>7.857143</td>\n",
              "      <td>7.875000</td>\n",
              "      <td>63000.00000</td>\n",
              "    </tr>\n",
              "    <tr>\n",
              "      <th>std</th>\n",
              "      <td>1.345185</td>\n",
              "      <td>1.642081</td>\n",
              "      <td>11501.55269</td>\n",
              "    </tr>\n",
              "    <tr>\n",
              "      <th>min</th>\n",
              "      <td>6.000000</td>\n",
              "      <td>6.000000</td>\n",
              "      <td>45000.00000</td>\n",
              "    </tr>\n",
              "    <tr>\n",
              "      <th>25%</th>\n",
              "      <td>7.000000</td>\n",
              "      <td>6.750000</td>\n",
              "      <td>57500.00000</td>\n",
              "    </tr>\n",
              "    <tr>\n",
              "      <th>50%</th>\n",
              "      <td>8.000000</td>\n",
              "      <td>7.500000</td>\n",
              "      <td>63500.00000</td>\n",
              "    </tr>\n",
              "    <tr>\n",
              "      <th>75%</th>\n",
              "      <td>8.500000</td>\n",
              "      <td>9.250000</td>\n",
              "      <td>70500.00000</td>\n",
              "    </tr>\n",
              "    <tr>\n",
              "      <th>max</th>\n",
              "      <td>10.000000</td>\n",
              "      <td>10.000000</td>\n",
              "      <td>80000.00000</td>\n",
              "    </tr>\n",
              "  </tbody>\n",
              "</table>\n",
              "</div>"
            ],
            "text/plain": [
              "       test_score(out of 10)  interview_score(out of 10)    salary($)\n",
              "count               7.000000                    8.000000      8.00000\n",
              "mean                7.857143                    7.875000  63000.00000\n",
              "std                 1.345185                    1.642081  11501.55269\n",
              "min                 6.000000                    6.000000  45000.00000\n",
              "25%                 7.000000                    6.750000  57500.00000\n",
              "50%                 8.000000                    7.500000  63500.00000\n",
              "75%                 8.500000                    9.250000  70500.00000\n",
              "max                10.000000                   10.000000  80000.00000"
            ]
          },
          "metadata": {
            "tags": []
          },
          "execution_count": 9
        }
      ]
    },
    {
      "cell_type": "code",
      "metadata": {
        "colab": {
          "base_uri": "https://localhost:8080/",
          "height": 206
        },
        "id": "nWs6p5jiaIS7",
        "outputId": "c32054be-aad5-4f99-d22e-ae76c7b47f26"
      },
      "source": [
        "dataset.head()"
      ],
      "execution_count": 10,
      "outputs": [
        {
          "output_type": "execute_result",
          "data": {
            "text/html": [
              "<div>\n",
              "<style scoped>\n",
              "    .dataframe tbody tr th:only-of-type {\n",
              "        vertical-align: middle;\n",
              "    }\n",
              "\n",
              "    .dataframe tbody tr th {\n",
              "        vertical-align: top;\n",
              "    }\n",
              "\n",
              "    .dataframe thead th {\n",
              "        text-align: right;\n",
              "    }\n",
              "</style>\n",
              "<table border=\"1\" class=\"dataframe\">\n",
              "  <thead>\n",
              "    <tr style=\"text-align: right;\">\n",
              "      <th></th>\n",
              "      <th>experience</th>\n",
              "      <th>test_score(out of 10)</th>\n",
              "      <th>interview_score(out of 10)</th>\n",
              "      <th>salary($)</th>\n",
              "    </tr>\n",
              "  </thead>\n",
              "  <tbody>\n",
              "    <tr>\n",
              "      <th>0</th>\n",
              "      <td>NaN</td>\n",
              "      <td>8.0</td>\n",
              "      <td>9</td>\n",
              "      <td>50000</td>\n",
              "    </tr>\n",
              "    <tr>\n",
              "      <th>1</th>\n",
              "      <td>NaN</td>\n",
              "      <td>8.0</td>\n",
              "      <td>6</td>\n",
              "      <td>45000</td>\n",
              "    </tr>\n",
              "    <tr>\n",
              "      <th>2</th>\n",
              "      <td>five</td>\n",
              "      <td>6.0</td>\n",
              "      <td>7</td>\n",
              "      <td>60000</td>\n",
              "    </tr>\n",
              "    <tr>\n",
              "      <th>3</th>\n",
              "      <td>two</td>\n",
              "      <td>10.0</td>\n",
              "      <td>10</td>\n",
              "      <td>65000</td>\n",
              "    </tr>\n",
              "    <tr>\n",
              "      <th>4</th>\n",
              "      <td>seven</td>\n",
              "      <td>9.0</td>\n",
              "      <td>6</td>\n",
              "      <td>70000</td>\n",
              "    </tr>\n",
              "  </tbody>\n",
              "</table>\n",
              "</div>"
            ],
            "text/plain": [
              "  experience  test_score(out of 10)  interview_score(out of 10)  salary($)\n",
              "0        NaN                    8.0                           9      50000\n",
              "1        NaN                    8.0                           6      45000\n",
              "2       five                    6.0                           7      60000\n",
              "3        two                   10.0                          10      65000\n",
              "4      seven                    9.0                           6      70000"
            ]
          },
          "metadata": {
            "tags": []
          },
          "execution_count": 10
        }
      ]
    },
    {
      "cell_type": "code",
      "metadata": {
        "colab": {
          "base_uri": "https://localhost:8080/"
        },
        "id": "c3iNxZuocl6c",
        "outputId": "bd8671ca-e313-4b24-ce5d-c0d8440bd09d"
      },
      "source": [
        "print(dataset.columns) "
      ],
      "execution_count": 16,
      "outputs": [
        {
          "output_type": "stream",
          "text": [
            "Index(['experience', 'test_score(out of 10)', 'interview_score(out of 10)',\n",
            "       'salary($)'],\n",
            "      dtype='object')\n"
          ],
          "name": "stdout"
        }
      ]
    },
    {
      "cell_type": "code",
      "metadata": {
        "colab": {
          "base_uri": "https://localhost:8080/"
        },
        "id": "qYWyWa2maQO7",
        "outputId": "d3e71ad3-51be-40c7-d029-54cb7921f052"
      },
      "source": [
        "# Let us rename the columns to make the code  more readable and avoid errors \n",
        "# due to  special charectres in  colum names\n",
        "dataset.rename(columns = {'test_score(out of 10)':'test_score'\n",
        "                 ,'interview_score(out of 10)':'interview_score'\n",
        "                 ,'salary($)':'salary'}, inplace = True) \n",
        "print(dataset.columns) "
      ],
      "execution_count": 20,
      "outputs": [
        {
          "output_type": "stream",
          "text": [
            "Index(['experience', 'test_score', 'interview_score', 'salary'], dtype='object')\n"
          ],
          "name": "stdout"
        }
      ]
    },
    {
      "cell_type": "markdown",
      "metadata": {
        "id": "a4H3a0dpaqtO"
      },
      "source": [
        "## The dataset contains columns experience , test_score, interview_score and salary \n",
        "\n",
        "## Salary can be considered as the dependent variable Y and  combination of other 3 columns form the independent variables\n",
        "\n"
      ]
    },
    {
      "cell_type": "code",
      "metadata": {
        "id": "a276D6snafGY"
      },
      "source": [
        "# Data Cleaning -  Need to check for the  null values and replace it with appropriate values.\n",
        "\n",
        "dataset['experience'].fillna(0, inplace=True)\n",
        "\n",
        "dataset['test_score'].fillna(dataset['test_score'].mean(), inplace=True)\n",
        "\n",
        "X = dataset.iloc[:, :3]\n",
        "\n",
        "# It will make sense  to convert all the columns as Numeric for  model fitting.\n",
        "# Converting words to integer values\n",
        "def convert_to_int(word):\n",
        "    word_dict = {'one':1, 'two':2, 'three':3, 'four':4, 'five':5, 'six':6, 'seven':7, 'eight':8,\n",
        "                'nine':9, 'ten':10, 'eleven':11, 'twelve':12, 'zero':0, 0: 0}\n",
        "    return word_dict[word]\n",
        "\n",
        "X['experience'] = X['experience'].apply(lambda x : convert_to_int(x))\n",
        "\n",
        "y = dataset.iloc[:, -1]\n"
      ],
      "execution_count": 21,
      "outputs": []
    },
    {
      "cell_type": "code",
      "metadata": {
        "colab": {
          "base_uri": "https://localhost:8080/"
        },
        "id": "mIIaUbF4LmjX",
        "outputId": "53c935a6-7693-4454-f3f3-ad66dacce7fb"
      },
      "source": [
        "#Splitting Training and Test Set\n",
        "#Since we have a very small dataset, we will train our model with all availabe data.\n",
        "\n",
        "from sklearn.linear_model import LinearRegression\n",
        "regressor = LinearRegression()\n",
        "\n",
        "#Fitting model with trainig data\n",
        "regressor.fit(X, y)\n",
        "\n",
        "# Saving model to disk\n",
        "pickle.dump(regressor, open('model.pkl','wb'))\n",
        "\n",
        "# Loading model to compare the results\n",
        "model = pickle.load(open('model.pkl','rb'))\n",
        "print(model.predict([[2, 9, 6]]))"
      ],
      "execution_count": 22,
      "outputs": [
        {
          "output_type": "stream",
          "text": [
            "[53290.89255945]\n"
          ],
          "name": "stdout"
        }
      ]
    },
    {
      "cell_type": "markdown",
      "metadata": {
        "id": "xfFRzPQPd4Jl"
      },
      "source": [
        "Model creation and prediction  testing are successful.\n",
        "\n",
        "Let us deploy this model using Flask Framework.\n",
        "\n",
        "Since we cannot run the flask as localhost we need to use a flask container  flask-ngrok\n"
      ]
    },
    {
      "cell_type": "code",
      "metadata": {
        "colab": {
          "base_uri": "https://localhost:8080/"
        },
        "id": "EafXjqJVeVDL",
        "outputId": "b948f204-5808-4369-e8bc-580beee91b07"
      },
      "source": [
        "!pip install flask-ngrok"
      ],
      "execution_count": 23,
      "outputs": [
        {
          "output_type": "stream",
          "text": [
            "Collecting flask-ngrok\n",
            "  Downloading https://files.pythonhosted.org/packages/af/6c/f54cb686ad1129e27d125d182f90f52b32f284e6c8df58c1bae54fa1adbc/flask_ngrok-0.0.25-py3-none-any.whl\n",
            "Requirement already satisfied: requests in /usr/local/lib/python3.6/dist-packages (from flask-ngrok) (2.23.0)\n",
            "Requirement already satisfied: Flask>=0.8 in /usr/local/lib/python3.6/dist-packages (from flask-ngrok) (1.1.2)\n",
            "Requirement already satisfied: chardet<4,>=3.0.2 in /usr/local/lib/python3.6/dist-packages (from requests->flask-ngrok) (3.0.4)\n",
            "Requirement already satisfied: idna<3,>=2.5 in /usr/local/lib/python3.6/dist-packages (from requests->flask-ngrok) (2.10)\n",
            "Requirement already satisfied: certifi>=2017.4.17 in /usr/local/lib/python3.6/dist-packages (from requests->flask-ngrok) (2020.11.8)\n",
            "Requirement already satisfied: urllib3!=1.25.0,!=1.25.1,<1.26,>=1.21.1 in /usr/local/lib/python3.6/dist-packages (from requests->flask-ngrok) (1.24.3)\n",
            "Requirement already satisfied: Jinja2>=2.10.1 in /usr/local/lib/python3.6/dist-packages (from Flask>=0.8->flask-ngrok) (2.11.2)\n",
            "Requirement already satisfied: itsdangerous>=0.24 in /usr/local/lib/python3.6/dist-packages (from Flask>=0.8->flask-ngrok) (1.1.0)\n",
            "Requirement already satisfied: Werkzeug>=0.15 in /usr/local/lib/python3.6/dist-packages (from Flask>=0.8->flask-ngrok) (1.0.1)\n",
            "Requirement already satisfied: click>=5.1 in /usr/local/lib/python3.6/dist-packages (from Flask>=0.8->flask-ngrok) (7.1.2)\n",
            "Requirement already satisfied: MarkupSafe>=0.23 in /usr/local/lib/python3.6/dist-packages (from Jinja2>=2.10.1->Flask>=0.8->flask-ngrok) (1.1.1)\n",
            "Installing collected packages: flask-ngrok\n",
            "Successfully installed flask-ngrok-0.0.25\n"
          ],
          "name": "stdout"
        }
      ]
    },
    {
      "cell_type": "markdown",
      "metadata": {
        "id": "AVoQMmriecH9"
      },
      "source": [
        "Deploy the model pkl using FLask"
      ]
    },
    {
      "cell_type": "code",
      "metadata": {
        "colab": {
          "base_uri": "https://localhost:8080/",
          "height": 36
        },
        "id": "ng0DgjcEiygE",
        "outputId": "130e748f-c073-4ddd-8d2c-5a08b89dd5e7"
      },
      "source": [
        "%pwd"
      ],
      "execution_count": 25,
      "outputs": [
        {
          "output_type": "execute_result",
          "data": {
            "application/vnd.google.colaboratory.intrinsic+json": {
              "type": "string"
            },
            "text/plain": [
              "'/content/drive/MyDrive/Data Science/github'"
            ]
          },
          "metadata": {
            "tags": []
          },
          "execution_count": 25
        }
      ]
    },
    {
      "cell_type": "markdown",
      "metadata": {
        "id": "LMzzq0-FmI9M"
      },
      "source": [
        "Create requirements.txt"
      ]
    },
    {
      "cell_type": "code",
      "metadata": {
        "colab": {
          "base_uri": "https://localhost:8080/"
        },
        "id": "fEZwKaoxlgho",
        "outputId": "6bde5a94-55b7-45e1-ed6a-e5fe6057a0f8"
      },
      "source": [
        "%%writefile requirements.txt\n",
        "Flask==1.1.1\n",
        "gunicorn==19.9.0\n",
        "itsdangerous==1.1.0\n",
        "Jinja2==2.10.1\n",
        "MarkupSafe==1.1.1\n",
        "Werkzeug==0.15.5\n",
        "numpy>=1.9.2\n",
        "scipy>=0.15.1\n",
        "scikit-learn>=0.18\n",
        "matplotlib>=1.4.3\n",
        "pandas>=0.19"
      ],
      "execution_count": 30,
      "outputs": [
        {
          "output_type": "stream",
          "text": [
            "Writing requirements.txt\n"
          ],
          "name": "stdout"
        }
      ]
    },
    {
      "cell_type": "markdown",
      "metadata": {
        "id": "klnxYtgUjuE8"
      },
      "source": [
        "Create a folder (templates) to hold the web page html "
      ]
    },
    {
      "cell_type": "code",
      "metadata": {
        "id": "lECa3wIzjrHN"
      },
      "source": [
        "%mkdir templates"
      ],
      "execution_count": 28,
      "outputs": []
    },
    {
      "cell_type": "markdown",
      "metadata": {
        "id": "1zpyRL0QkIXV"
      },
      "source": [
        "Add index.html as the home page for the web app"
      ]
    },
    {
      "cell_type": "code",
      "metadata": {
        "colab": {
          "base_uri": "https://localhost:8080/"
        },
        "id": "9lVtbbDrltU5",
        "outputId": "09efce7a-bd00-4f29-aee0-feb4ca6db602"
      },
      "source": [
        "%%writefile templates/index.html\n",
        "<!DOCTYPE html>\n",
        "<html >\n",
        "<!--From https://codepen.io/frytyler/pen/EGdtg-->\n",
        "<head>\n",
        "  <meta charset=\"UTF-8\">\n",
        "  <title>ML API</title>\n",
        "  <link href='https://fonts.googleapis.com/css?family=Pacifico' rel='stylesheet' type='text/css'>\n",
        "<link href='https://fonts.googleapis.com/css?family=Arimo' rel='stylesheet' type='text/css'>\n",
        "<link href='https://fonts.googleapis.com/css?family=Hind:300' rel='stylesheet' type='text/css'>\n",
        "<link href='https://fonts.googleapis.com/css?family=Open+Sans+Condensed:300' rel='stylesheet' type='text/css'>\n",
        "  \n",
        "</head>\n",
        "\n",
        "<body>\n",
        " <div class=\"login\">\n",
        "\t<h1>Predict Salary Analysis</h1>\n",
        "\n",
        "     <!-- Main Input For Receiving Query to our ML -->\n",
        "    <form action=\"{{ url_for('predict')}}\"method=\"post\">\n",
        "    \t<input type=\"text\" name=\"experience\" placeholder=\"Experience\" required=\"required\" />\n",
        "        <input type=\"text\" name=\"test_score\" placeholder=\"Test Score\" required=\"required\" />\n",
        "\t\t<input type=\"text\" name=\"interview_score\" placeholder=\"Interview Score\" required=\"required\" />\n",
        "\n",
        "        <button type=\"submit\" class=\"btn btn-primary btn-block btn-large\">Predict</button>\n",
        "    </form>\n",
        "\n",
        "   <br>\n",
        "   <br>\n",
        "   {{ prediction_text }}\n",
        "\n",
        " </div>\n",
        "\n",
        "\n",
        "</body>\n",
        "</html>\n"
      ],
      "execution_count": 31,
      "outputs": [
        {
          "output_type": "stream",
          "text": [
            "Writing templates/index.html\n"
          ],
          "name": "stdout"
        }
      ]
    },
    {
      "cell_type": "markdown",
      "metadata": {
        "id": "i0eruOzImdTS"
      },
      "source": [
        "Trigger the Flask server with the model deployed"
      ]
    },
    {
      "cell_type": "code",
      "metadata": {
        "colab": {
          "base_uri": "https://localhost:8080/"
        },
        "id": "rOpoThSuekBw",
        "outputId": "f32f9618-9057-48b5-8a51-955fcb1786f7"
      },
      "source": [
        "import numpy as np\n",
        "from flask import Flask, request, jsonify, render_template\n",
        "from flask_ngrok import run_with_ngrok\n",
        "import pickle\n",
        "\n",
        "app = Flask(__name__)\n",
        "model = pickle.load(open('model.pkl', 'rb'))\n",
        "run_with_ngrok(app)\n",
        "\n",
        "@app.route('/')\n",
        "def home():\n",
        "    return render_template('index.html')\n",
        "\n",
        "@app.route('/predict',methods=['POST'])\n",
        "def predict():\n",
        "    '''\n",
        "    For rendering results on HTML GUI\n",
        "    '''\n",
        "    int_features = [int(x) for x in request.form.values()]\n",
        "    final_features = [np.array(int_features)]\n",
        "    prediction = model.predict(final_features)\n",
        "\n",
        "    output = round(prediction[0], 2)\n",
        "\n",
        "    return render_template('index.html', prediction_text='Employee Salary should be $ {}'.format(output))\n",
        "\n",
        "\n",
        "if __name__ == \"__main__\":\n",
        "    app.run()"
      ],
      "execution_count": 32,
      "outputs": [
        {
          "output_type": "stream",
          "text": [
            " * Serving Flask app \"__main__\" (lazy loading)\n",
            " * Environment: production\n",
            "\u001b[31m   WARNING: This is a development server. Do not use it in a production deployment.\u001b[0m\n",
            "\u001b[2m   Use a production WSGI server instead.\u001b[0m\n",
            " * Debug mode: off\n"
          ],
          "name": "stdout"
        },
        {
          "output_type": "stream",
          "text": [
            " * Running on http://127.0.0.1:5000/ (Press CTRL+C to quit)\n"
          ],
          "name": "stderr"
        },
        {
          "output_type": "stream",
          "text": [
            " * Running on http://1d345d23f4ad.ngrok.io\n",
            " * Traffic stats available on http://127.0.0.1:4040\n"
          ],
          "name": "stdout"
        },
        {
          "output_type": "stream",
          "text": [
            "127.0.0.1 - - [24/Nov/2020 14:14:23] \"\u001b[37mGET / HTTP/1.1\u001b[0m\" 200 -\n",
            "127.0.0.1 - - [24/Nov/2020 14:14:23] \"\u001b[33mGET /favicon.ico HTTP/1.1\u001b[0m\" 404 -\n",
            "127.0.0.1 - - [24/Nov/2020 14:14:24] \"\u001b[37mGET / HTTP/1.1\u001b[0m\" 200 -\n",
            "127.0.0.1 - - [24/Nov/2020 14:14:42] \"\u001b[37mPOST /predict HTTP/1.1\u001b[0m\" 200 -\n",
            "127.0.0.1 - - [24/Nov/2020 14:14:42] \"\u001b[33mGET /favicon.ico HTTP/1.1\u001b[0m\" 404 -\n"
          ],
          "name": "stderr"
        }
      ]
    },
    {
      "cell_type": "markdown",
      "metadata": {
        "id": "bN__fnh9nHMg"
      },
      "source": [
        "Click on the generated  url with domain ngrrok.io \n",
        "\n",
        "![Screen Shot 2020-11-24 at 6.15.51 AM.png](data:image/png;base64,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)\n",
        "\n"
      ]
    },
    {
      "cell_type": "code",
      "metadata": {
        "id": "kJ4hyiqVnyFl"
      },
      "source": [
        "%git push "
      ],
      "execution_count": null,
      "outputs": []
    },
    {
      "cell_type": "markdown",
      "metadata": {
        "id": "3ZYdiu_1o517"
      },
      "source": [
        "Hurray We have successfully completed the full cycle of this Data Science From Data load to Deployment -- All within Google Colab"
      ]
    }
  ]
}